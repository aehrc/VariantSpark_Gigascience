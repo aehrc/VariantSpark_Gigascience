{
 "cells": [
  {
   "cell_type": "markdown",
   "metadata": {},
   "source": [
    "# =========================================================\n",
    "# PolyEpi: Polygenic Phenotype with Higher-Order Epistasis Interactios\n",
    "# ========================================================="
   ]
  },
  {
   "cell_type": "markdown",
   "metadata": {},
   "source": [
    "# Path to the config file (Modify this before running the notebook."
   ]
  },
  {
   "cell_type": "code",
   "execution_count": 1,
   "metadata": {},
   "outputs": [],
   "source": [
    "configFilePath='config-template.json'\n",
    "PEPS3=False # if flase then PEPS2"
   ]
  },
  {
   "cell_type": "markdown",
   "metadata": {},
   "source": [
    "# Initialisation"
   ]
  },
  {
   "cell_type": "code",
   "execution_count": 2,
   "metadata": {},
   "outputs": [],
   "source": [
    "import sys\n",
    "import numpy as np\n",
    "import pandas as pd\n",
    "from matplotlib import pyplot as plt\n",
    "import json\n",
    "from collections import Counter\n",
    "from random import random\n",
    "from pprint import pprint\n",
    "from pdbio.vcfdataframe import VcfDataFrame\n",
    "\n",
    "import itertools\n",
    "\n",
    "from sklearn.feature_selection import SelectKBest, chi2\n",
    "from sklearn.ensemble import RandomForestClassifier\n",
    "from sklearn.metrics import roc_auc_score\n",
    "from scipy import stats\n",
    "import sklearn\n",
    "\n",
    "TA = [1, .5, 1e-1, 1e-2, 1e-3, 1e-8, 1e-20]"
   ]
  },
  {
   "cell_type": "markdown",
   "metadata": {},
   "source": [
    "# Read the config file"
   ]
  },
  {
   "cell_type": "code",
   "execution_count": 3,
   "metadata": {},
   "outputs": [],
   "source": [
    "with open(configFilePath, 'r') as f:\n",
    "    config = json.load(f)\n",
    "\n",
    "if config['seed']==0:\n",
    "    config['seed'] = int(random()*1000000000)"
   ]
  },
  {
   "cell_type": "code",
   "execution_count": 4,
   "metadata": {},
   "outputs": [
    {
     "name": "stdout",
     "output_type": "stream",
     "text": [
      "{'dumpCSV': False,\n",
      " 'inputPrefix': '../PEPS_Genotypes/PEPS-1000Genome-Subset-A',\n",
      " 'inputType': 'csv',\n",
      " 'numTree': 500,\n",
      " 'outputPrefix': 'cnf1-run3',\n",
      " 'seed': 5247621,\n",
      " 'shuffleSnps': True,\n",
      " 'variables': [{'numSnpsInVar': 1, 'numVar': 5},\n",
      "               {'numSnpsInVar': 2, 'numVar': 0},\n",
      "               {'numSnpsInVar': 3, 'numVar': 0},\n",
      "               {'numSnpsInVar': 4, 'numVar': 0},\n",
      "               {'numSnpsInVar': 5, 'numVar': 0}]}\n"
     ]
    }
   ],
   "source": [
    "pprint(config)"
   ]
  },
  {
   "cell_type": "code",
   "execution_count": 5,
   "metadata": {},
   "outputs": [],
   "source": [
    "shuffleSnps = config['shuffleSnps']\n",
    "seed = config['seed']\n",
    "\n",
    "np.random.seed(None if shuffleSnps else seed)\n",
    "\n",
    "inputType = config['inputType']\n",
    "dumpCSV = config['dumpCSV']\n",
    "\n",
    "vcfInputPath = config['inputPrefix']+'.vcf'\n",
    "csvInputPath = config['inputPrefix']+'.csv'\n",
    "\n",
    "outputPrefix = config['outputPrefix']\n",
    "\n",
    "numTree = config['numTree']"
   ]
  },
  {
   "cell_type": "markdown",
   "metadata": {},
   "source": [
    "# Compute total numebr of variables and number of requierd SNPs to form the variables"
   ]
  },
  {
   "cell_type": "code",
   "execution_count": 6,
   "metadata": {},
   "outputs": [],
   "source": [
    "numVariables = 0\n",
    "numSnpsNeeded = 0\n",
    "maxOrder = 0\n",
    "\n",
    "for v in config['variables']:\n",
    "    v['numSNPs'] = v['numVar'] * v['numSnpsInVar']\n",
    "    numVariables += v['numVar']\n",
    "    numSnpsNeeded += v['numSNPs']\n",
    "    if v['numSnpsInVar']>maxOrder:\n",
    "        maxOrder = v['numSnpsInVar']\n",
    "    \n",
    "config['numVariables'] = numVariables\n",
    "config['numSnpsNeeded'] = numSnpsNeeded\n",
    "config['maxOrder'] = maxOrder"
   ]
  },
  {
   "cell_type": "markdown",
   "metadata": {},
   "source": [
    "# Print config data and write it in \"outputPrefix.config.json\""
   ]
  },
  {
   "cell_type": "code",
   "execution_count": 7,
   "metadata": {},
   "outputs": [
    {
     "name": "stdout",
     "output_type": "stream",
     "text": [
      "========== Configuration >>>\n",
      "{'dumpCSV': False,\n",
      " 'inputPrefix': '../PEPS_Genotypes/PEPS-1000Genome-Subset-A',\n",
      " 'inputType': 'csv',\n",
      " 'maxOrder': 5,\n",
      " 'numSnpsNeeded': 5,\n",
      " 'numTree': 500,\n",
      " 'numVariables': 5,\n",
      " 'outputPrefix': 'cnf1-run3',\n",
      " 'seed': 5247621,\n",
      " 'shuffleSnps': True,\n",
      " 'variables': [{'numSNPs': 5, 'numSnpsInVar': 1, 'numVar': 5},\n",
      "               {'numSNPs': 0, 'numSnpsInVar': 2, 'numVar': 0},\n",
      "               {'numSNPs': 0, 'numSnpsInVar': 3, 'numVar': 0},\n",
      "               {'numSNPs': 0, 'numSnpsInVar': 4, 'numVar': 0},\n",
      "               {'numSNPs': 0, 'numSnpsInVar': 5, 'numVar': 0}]}\n",
      "============================\n"
     ]
    }
   ],
   "source": [
    "print(\"========== Configuration >>>\")\n",
    "pprint(config)\n",
    "print(\"============================\")\n",
    "with open(outputPrefix+'.config.json','w') as outfile:\n",
    "    json.dump(config, outfile, indent=4, sort_keys=True)"
   ]
  },
  {
   "cell_type": "code",
   "execution_count": 8,
   "metadata": {},
   "outputs": [
    {
     "name": "stdout",
     "output_type": "stream",
     "text": [
      "../PEPS_Genotypes/PEPS-1000Genome-Subset-A.csv\n",
      "../PEPS_Genotypes/PEPS-1000Genome-Subset-A.csv.gz\n",
      "../PEPS_Genotypes/PEPS-1000Genome-Subset-A.html\n",
      "../PEPS_Genotypes/PEPS-1000Genome-Subset-A.ipynb\n"
     ]
    }
   ],
   "source": [
    "%%sh\n",
    "ls ../PEPS_Genotypes/PEPS-1000Genome-Subset-A*"
   ]
  },
  {
   "cell_type": "markdown",
   "metadata": {},
   "source": [
    "# Parse input genotype data from a VCF or CSV file\n",
    "## If read from VCF file, the SNP id is set to CHROM:POS:REF:ALT"
   ]
  },
  {
   "cell_type": "code",
   "execution_count": 9,
   "metadata": {
    "scrolled": true
   },
   "outputs": [],
   "source": [
    "if inputType=='vcf':\n",
    "    vcfdf = VcfDataFrame(path=vcfInputPath)\n",
    "    df = vcfdf.df\n",
    "    df['SNP'] = df['#CHROM'].astype(str) + ':' + df['POS'].astype(str) + ':' + df['REF'].astype(str) + ':' + df['ALT'].astype(str)\n",
    "    df = df.set_index('SNP')\n",
    "    snpData = df.iloc[:,9:].replace(['0/0','0/1','1/1'], [0,1,2])\n",
    "    if dumpCSV:\n",
    "        snpData.to_csv(csvInputPath)\n",
    "elif inputType=='csv':\n",
    "    snpData = pd.read_csv(csvInputPath)\n",
    "    snpData = snpData.set_index('SNP')\n",
    "else:\n",
    "    print(\"Incorrect inputType (should be 'vcf' or 'csv')\")\n",
    "    exit()"
   ]
  },
  {
   "cell_type": "code",
   "execution_count": 10,
   "metadata": {
    "scrolled": true
   },
   "outputs": [
    {
     "data": {
      "text/html": [
       "<div>\n",
       "<style scoped>\n",
       "    .dataframe tbody tr th:only-of-type {\n",
       "        vertical-align: middle;\n",
       "    }\n",
       "\n",
       "    .dataframe tbody tr th {\n",
       "        vertical-align: top;\n",
       "    }\n",
       "\n",
       "    .dataframe thead th {\n",
       "        text-align: right;\n",
       "    }\n",
       "</style>\n",
       "<table border=\"1\" class=\"dataframe\">\n",
       "  <thead>\n",
       "    <tr style=\"text-align: right;\">\n",
       "      <th></th>\n",
       "      <th>HG00096</th>\n",
       "      <th>HG00097</th>\n",
       "      <th>HG00099</th>\n",
       "      <th>HG00100</th>\n",
       "      <th>HG00101</th>\n",
       "    </tr>\n",
       "    <tr>\n",
       "      <th>SNP</th>\n",
       "      <th></th>\n",
       "      <th></th>\n",
       "      <th></th>\n",
       "      <th></th>\n",
       "      <th></th>\n",
       "    </tr>\n",
       "  </thead>\n",
       "  <tbody>\n",
       "    <tr>\n",
       "      <th>1:15820:G:T</th>\n",
       "      <td>1</td>\n",
       "      <td>1</td>\n",
       "      <td>1</td>\n",
       "      <td>0</td>\n",
       "      <td>0</td>\n",
       "    </tr>\n",
       "    <tr>\n",
       "      <th>1:62777:A:T</th>\n",
       "      <td>1</td>\n",
       "      <td>1</td>\n",
       "      <td>0</td>\n",
       "      <td>1</td>\n",
       "      <td>1</td>\n",
       "    </tr>\n",
       "    <tr>\n",
       "      <th>1:63268:T:C</th>\n",
       "      <td>0</td>\n",
       "      <td>0</td>\n",
       "      <td>0</td>\n",
       "      <td>0</td>\n",
       "      <td>1</td>\n",
       "    </tr>\n",
       "    <tr>\n",
       "      <th>1:843405:A:G</th>\n",
       "      <td>1</td>\n",
       "      <td>1</td>\n",
       "      <td>0</td>\n",
       "      <td>0</td>\n",
       "      <td>2</td>\n",
       "    </tr>\n",
       "    <tr>\n",
       "      <th>1:1012483:G:T</th>\n",
       "      <td>0</td>\n",
       "      <td>2</td>\n",
       "      <td>2</td>\n",
       "      <td>2</td>\n",
       "      <td>2</td>\n",
       "    </tr>\n",
       "  </tbody>\n",
       "</table>\n",
       "</div>"
      ],
      "text/plain": [
       "               HG00096  HG00097  HG00099  HG00100  HG00101\n",
       "SNP                                                       \n",
       "1:15820:G:T          1        1        1        0        0\n",
       "1:62777:A:T          1        1        0        1        1\n",
       "1:63268:T:C          0        0        0        0        1\n",
       "1:843405:A:G         1        1        0        0        2\n",
       "1:1012483:G:T        0        2        2        2        2"
      ]
     },
     "execution_count": 10,
     "metadata": {},
     "output_type": "execute_result"
    }
   ],
   "source": [
    "snpData.iloc[:5,:5]"
   ]
  },
  {
   "cell_type": "markdown",
   "metadata": {},
   "source": [
    "# There should be enough SNPs in the input file to create all variables"
   ]
  },
  {
   "cell_type": "code",
   "execution_count": 11,
   "metadata": {},
   "outputs": [
    {
     "name": "stdout",
     "output_type": "stream",
     "text": [
      "Number of SNPs in the input file:  17373\n",
      "Number of SNPs needed:  5\n",
      "There are enough SNPs in the input file\n"
     ]
    }
   ],
   "source": [
    "print(\"Number of SNPs in the input file: \", snpData.shape[0])\n",
    "print(\"Number of SNPs needed: \", numSnpsNeeded)\n",
    "\n",
    "if snpData.shape[0] < numSnpsNeeded:\n",
    "    print(\"There are not enough SNPs in the input file\")\n",
    "    exit(1)\n",
    "else:\n",
    "    print(\"There are enough SNPs in the input file\")"
   ]
  },
  {
   "cell_type": "markdown",
   "metadata": {},
   "source": [
    "# Suffle SNPs if asked in the config file.\n",
    "## When SNPs are shuffled different set of SNPs used to form each variables each time"
   ]
  },
  {
   "cell_type": "code",
   "execution_count": 12,
   "metadata": {},
   "outputs": [],
   "source": [
    "snpData = snpData.sample(frac=1)"
   ]
  },
  {
   "cell_type": "markdown",
   "metadata": {},
   "source": [
    "# Transpose the genotype data and print number of snps and samples\n",
    "## Also rename 0/0, 0/1 and 1/1 to R, H and A"
   ]
  },
  {
   "cell_type": "code",
   "execution_count": 13,
   "metadata": {},
   "outputs": [],
   "source": [
    "snpData = snpData.T"
   ]
  },
  {
   "cell_type": "code",
   "execution_count": 14,
   "metadata": {},
   "outputs": [
    {
     "name": "stdout",
     "output_type": "stream",
     "text": [
      "number of sample 2504\n",
      "number of snp 17373\n"
     ]
    }
   ],
   "source": [
    "df = snpData.replace([0,1,2],['R','H','A'])\n",
    "numSamples = df.shape[0]\n",
    "numSNPs = df.shape[1]\n",
    "print(\"number of sample\",numSamples)\n",
    "print(\"number of snp\",numSNPs)"
   ]
  },
  {
   "cell_type": "markdown",
   "metadata": {},
   "source": [
    "# Form variables from SNPs\n",
    "## A variable could be a SNPs or a set of Interactive SNPs\n",
    "## First identify whcih SNPs belong to each variable and then form the variables\n",
    "## Naming of variables: O3V4 is the 4th variable with 3-interactive SNPs\n",
    "## Write Variables SNPs infor in \"outputPrefix.varData.csv\""
   ]
  },
  {
   "cell_type": "code",
   "execution_count": 15,
   "metadata": {},
   "outputs": [],
   "source": [
    "colNames = list() # to store variable names\n",
    "for o,v in enumerate(config['variables']):\n",
    "    for i in range(0,v['numVar']):\n",
    "        colNames.append('O'+str(o+1)+'V'+str(i+1))\n",
    "        # PEPS3 (Start)\n",
    "        if PEPS3:\n",
    "            if o > 0:\n",
    "                for s in range(0,o+1):\n",
    "                    colNames.append('O'+str(o+1)+'V'+str(i+1)+'S'+str(s+1))\n",
    "        # PEPS3 (END)"
   ]
  },
  {
   "cell_type": "code",
   "execution_count": 16,
   "metadata": {},
   "outputs": [],
   "source": [
    "rowNames = ['order']\n",
    "for o in range(maxOrder):\n",
    "    rowNames.append('snp_'+str(o+1))"
   ]
  },
  {
   "cell_type": "code",
   "execution_count": 17,
   "metadata": {},
   "outputs": [],
   "source": [
    "varData = pd.DataFrame(index=rowNames, columns=colNames)"
   ]
  },
  {
   "cell_type": "code",
   "execution_count": 18,
   "metadata": {},
   "outputs": [],
   "source": [
    "idx = 0\n",
    "for o,v in enumerate(config['variables']):\n",
    "    for i in range(0,v['numVar']):\n",
    "        name = 'O'+str(o+1)+'V'+str(i+1)\n",
    "        varData.at['order',name] = str(o+1)\n",
    "        for k in range(0,v['numSnpsInVar']):\n",
    "            snp = 'snp_'+str(k+1)\n",
    "            varData.at[snp,name]=df.columns[idx]\n",
    "            # PEPS3 (Start)\n",
    "            if PEPS3:\n",
    "                if o > 0:\n",
    "                    name3 = 'O'+str(o+1)+'V'+str(i+1)+'S'+str(k+1)\n",
    "                    varData.at['order',name3] = 1\n",
    "                    varData.at['snp_1',name3] = df.columns[idx]\n",
    "            # PEPS3 (END)\n",
    "            idx += 1\n",
    "varData = varData.fillna('---')"
   ]
  },
  {
   "cell_type": "code",
   "execution_count": 19,
   "metadata": {},
   "outputs": [
    {
     "data": {
      "text/html": [
       "<div>\n",
       "<style scoped>\n",
       "    .dataframe tbody tr th:only-of-type {\n",
       "        vertical-align: middle;\n",
       "    }\n",
       "\n",
       "    .dataframe tbody tr th {\n",
       "        vertical-align: top;\n",
       "    }\n",
       "\n",
       "    .dataframe thead th {\n",
       "        text-align: right;\n",
       "    }\n",
       "</style>\n",
       "<table border=\"1\" class=\"dataframe\">\n",
       "  <thead>\n",
       "    <tr style=\"text-align: right;\">\n",
       "      <th></th>\n",
       "      <th>O1V1</th>\n",
       "      <th>O1V2</th>\n",
       "      <th>O1V3</th>\n",
       "      <th>O1V4</th>\n",
       "      <th>O1V5</th>\n",
       "    </tr>\n",
       "  </thead>\n",
       "  <tbody>\n",
       "    <tr>\n",
       "      <th>order</th>\n",
       "      <td>1</td>\n",
       "      <td>1</td>\n",
       "      <td>1</td>\n",
       "      <td>1</td>\n",
       "      <td>1</td>\n",
       "    </tr>\n",
       "    <tr>\n",
       "      <th>snp_1</th>\n",
       "      <td>17:74375959:T:A</td>\n",
       "      <td>6:23443962:G:A</td>\n",
       "      <td>8:98338993:G:A</td>\n",
       "      <td>3:117237749:C:T</td>\n",
       "      <td>16:55285845:A:C</td>\n",
       "    </tr>\n",
       "    <tr>\n",
       "      <th>snp_2</th>\n",
       "      <td>---</td>\n",
       "      <td>---</td>\n",
       "      <td>---</td>\n",
       "      <td>---</td>\n",
       "      <td>---</td>\n",
       "    </tr>\n",
       "    <tr>\n",
       "      <th>snp_3</th>\n",
       "      <td>---</td>\n",
       "      <td>---</td>\n",
       "      <td>---</td>\n",
       "      <td>---</td>\n",
       "      <td>---</td>\n",
       "    </tr>\n",
       "    <tr>\n",
       "      <th>snp_4</th>\n",
       "      <td>---</td>\n",
       "      <td>---</td>\n",
       "      <td>---</td>\n",
       "      <td>---</td>\n",
       "      <td>---</td>\n",
       "    </tr>\n",
       "    <tr>\n",
       "      <th>snp_5</th>\n",
       "      <td>---</td>\n",
       "      <td>---</td>\n",
       "      <td>---</td>\n",
       "      <td>---</td>\n",
       "      <td>---</td>\n",
       "    </tr>\n",
       "  </tbody>\n",
       "</table>\n",
       "</div>"
      ],
      "text/plain": [
       "                  O1V1            O1V2            O1V3             O1V4  \\\n",
       "order                1               1               1                1   \n",
       "snp_1  17:74375959:T:A  6:23443962:G:A  8:98338993:G:A  3:117237749:C:T   \n",
       "snp_2              ---             ---             ---              ---   \n",
       "snp_3              ---             ---             ---              ---   \n",
       "snp_4              ---             ---             ---              ---   \n",
       "snp_5              ---             ---             ---              ---   \n",
       "\n",
       "                  O1V5  \n",
       "order                1  \n",
       "snp_1  16:55285845:A:C  \n",
       "snp_2              ---  \n",
       "snp_3              ---  \n",
       "snp_4              ---  \n",
       "snp_5              ---  "
      ]
     },
     "execution_count": 19,
     "metadata": {},
     "output_type": "execute_result"
    }
   ],
   "source": [
    "varData"
   ]
  },
  {
   "cell_type": "code",
   "execution_count": 20,
   "metadata": {},
   "outputs": [],
   "source": [
    "varData.to_csv(outputPrefix+'.varData.csv')"
   ]
  },
  {
   "cell_type": "code",
   "execution_count": 21,
   "metadata": {},
   "outputs": [
    {
     "data": {
      "text/html": [
       "<div>\n",
       "<style scoped>\n",
       "    .dataframe tbody tr th:only-of-type {\n",
       "        vertical-align: middle;\n",
       "    }\n",
       "\n",
       "    .dataframe tbody tr th {\n",
       "        vertical-align: top;\n",
       "    }\n",
       "\n",
       "    .dataframe thead th {\n",
       "        text-align: right;\n",
       "    }\n",
       "</style>\n",
       "<table border=\"1\" class=\"dataframe\">\n",
       "  <thead>\n",
       "    <tr style=\"text-align: right;\">\n",
       "      <th></th>\n",
       "      <th>O1V1</th>\n",
       "      <th>O1V2</th>\n",
       "      <th>O1V3</th>\n",
       "      <th>O1V4</th>\n",
       "      <th>O1V5</th>\n",
       "    </tr>\n",
       "  </thead>\n",
       "  <tbody>\n",
       "    <tr>\n",
       "      <th>order</th>\n",
       "      <td>1</td>\n",
       "      <td>1</td>\n",
       "      <td>1</td>\n",
       "      <td>1</td>\n",
       "      <td>1</td>\n",
       "    </tr>\n",
       "    <tr>\n",
       "      <th>snp_1</th>\n",
       "      <td>17:74375959:T:A</td>\n",
       "      <td>6:23443962:G:A</td>\n",
       "      <td>8:98338993:G:A</td>\n",
       "      <td>3:117237749:C:T</td>\n",
       "      <td>16:55285845:A:C</td>\n",
       "    </tr>\n",
       "    <tr>\n",
       "      <th>snp_2</th>\n",
       "      <td>---</td>\n",
       "      <td>---</td>\n",
       "      <td>---</td>\n",
       "      <td>---</td>\n",
       "      <td>---</td>\n",
       "    </tr>\n",
       "    <tr>\n",
       "      <th>snp_3</th>\n",
       "      <td>---</td>\n",
       "      <td>---</td>\n",
       "      <td>---</td>\n",
       "      <td>---</td>\n",
       "      <td>---</td>\n",
       "    </tr>\n",
       "    <tr>\n",
       "      <th>snp_4</th>\n",
       "      <td>---</td>\n",
       "      <td>---</td>\n",
       "      <td>---</td>\n",
       "      <td>---</td>\n",
       "      <td>---</td>\n",
       "    </tr>\n",
       "    <tr>\n",
       "      <th>snp_5</th>\n",
       "      <td>---</td>\n",
       "      <td>---</td>\n",
       "      <td>---</td>\n",
       "      <td>---</td>\n",
       "      <td>---</td>\n",
       "    </tr>\n",
       "  </tbody>\n",
       "</table>\n",
       "</div>"
      ],
      "text/plain": [
       "                  O1V1            O1V2            O1V3             O1V4  \\\n",
       "order                1               1               1                1   \n",
       "snp_1  17:74375959:T:A  6:23443962:G:A  8:98338993:G:A  3:117237749:C:T   \n",
       "snp_2              ---             ---             ---              ---   \n",
       "snp_3              ---             ---             ---              ---   \n",
       "snp_4              ---             ---             ---              ---   \n",
       "snp_5              ---             ---             ---              ---   \n",
       "\n",
       "                  O1V5  \n",
       "order                1  \n",
       "snp_1  16:55285845:A:C  \n",
       "snp_2              ---  \n",
       "snp_3              ---  \n",
       "snp_4              ---  \n",
       "snp_5              ---  "
      ]
     },
     "execution_count": 21,
     "metadata": {},
     "output_type": "execute_result"
    }
   ],
   "source": [
    "varData.iloc[:6,-10:]"
   ]
  },
  {
   "cell_type": "markdown",
   "metadata": {},
   "source": [
    "# Form Variable Genotype and write it to \"outputPrefix.varGT.csv\"\n",
    "## For variables with more than one SNPs the genotype is the concatination of all SNPs involved\n",
    "## For example RHA, ARH and AAR could be genotype value of a variable with 3 snps"
   ]
  },
  {
   "cell_type": "code",
   "execution_count": 22,
   "metadata": {},
   "outputs": [],
   "source": [
    "varGT = df.iloc[:,-1:0].copy()"
   ]
  },
  {
   "cell_type": "code",
   "execution_count": 23,
   "metadata": {
    "scrolled": true
   },
   "outputs": [],
   "source": [
    "# PEPS3 block\n",
    "if PEPS3:\n",
    "    for name in varData.columns:\n",
    "        o = int(varData.loc['order',name])\n",
    "        print(name,o)\n",
    "        varGT[name] = ''\n",
    "        for k in range(0,o):\n",
    "            snp = 'snp_'+str(k+1)\n",
    "            varGT[name] = varGT[name] + df[varData.loc[snp,name]]"
   ]
  },
  {
   "cell_type": "code",
   "execution_count": 24,
   "metadata": {},
   "outputs": [],
   "source": [
    "if ~PEPS3:\n",
    "    for o,v in enumerate(config['variables']):\n",
    "        for i in range(0,v['numVar']):\n",
    "            name = 'O'+str(o+1)+'V'+str(i+1)\n",
    "            varGT[name] = ''\n",
    "            for k in range(0,v['numSnpsInVar']):\n",
    "                snp = 'snp_'+str(k+1)\n",
    "                varGT[name] = varGT[name] + df[varData.loc[snp,name]]"
   ]
  },
  {
   "cell_type": "code",
   "execution_count": 25,
   "metadata": {},
   "outputs": [
    {
     "data": {
      "text/html": [
       "<div>\n",
       "<style scoped>\n",
       "    .dataframe tbody tr th:only-of-type {\n",
       "        vertical-align: middle;\n",
       "    }\n",
       "\n",
       "    .dataframe tbody tr th {\n",
       "        vertical-align: top;\n",
       "    }\n",
       "\n",
       "    .dataframe thead th {\n",
       "        text-align: right;\n",
       "    }\n",
       "</style>\n",
       "<table border=\"1\" class=\"dataframe\">\n",
       "  <thead>\n",
       "    <tr style=\"text-align: right;\">\n",
       "      <th>SNP</th>\n",
       "      <th>O1V1</th>\n",
       "      <th>O1V2</th>\n",
       "      <th>O1V3</th>\n",
       "      <th>O1V4</th>\n",
       "      <th>O1V5</th>\n",
       "    </tr>\n",
       "  </thead>\n",
       "  <tbody>\n",
       "    <tr>\n",
       "      <th>HG00096</th>\n",
       "      <td>A</td>\n",
       "      <td>R</td>\n",
       "      <td>H</td>\n",
       "      <td>A</td>\n",
       "      <td>H</td>\n",
       "    </tr>\n",
       "    <tr>\n",
       "      <th>HG00097</th>\n",
       "      <td>H</td>\n",
       "      <td>H</td>\n",
       "      <td>H</td>\n",
       "      <td>R</td>\n",
       "      <td>H</td>\n",
       "    </tr>\n",
       "    <tr>\n",
       "      <th>HG00099</th>\n",
       "      <td>H</td>\n",
       "      <td>H</td>\n",
       "      <td>R</td>\n",
       "      <td>H</td>\n",
       "      <td>R</td>\n",
       "    </tr>\n",
       "    <tr>\n",
       "      <th>HG00100</th>\n",
       "      <td>A</td>\n",
       "      <td>A</td>\n",
       "      <td>A</td>\n",
       "      <td>H</td>\n",
       "      <td>H</td>\n",
       "    </tr>\n",
       "    <tr>\n",
       "      <th>HG00101</th>\n",
       "      <td>H</td>\n",
       "      <td>A</td>\n",
       "      <td>R</td>\n",
       "      <td>H</td>\n",
       "      <td>R</td>\n",
       "    </tr>\n",
       "    <tr>\n",
       "      <th>...</th>\n",
       "      <td>...</td>\n",
       "      <td>...</td>\n",
       "      <td>...</td>\n",
       "      <td>...</td>\n",
       "      <td>...</td>\n",
       "    </tr>\n",
       "    <tr>\n",
       "      <th>NA21137</th>\n",
       "      <td>R</td>\n",
       "      <td>H</td>\n",
       "      <td>H</td>\n",
       "      <td>H</td>\n",
       "      <td>R</td>\n",
       "    </tr>\n",
       "    <tr>\n",
       "      <th>NA21141</th>\n",
       "      <td>R</td>\n",
       "      <td>H</td>\n",
       "      <td>R</td>\n",
       "      <td>A</td>\n",
       "      <td>R</td>\n",
       "    </tr>\n",
       "    <tr>\n",
       "      <th>NA21142</th>\n",
       "      <td>H</td>\n",
       "      <td>A</td>\n",
       "      <td>H</td>\n",
       "      <td>R</td>\n",
       "      <td>R</td>\n",
       "    </tr>\n",
       "    <tr>\n",
       "      <th>NA21143</th>\n",
       "      <td>A</td>\n",
       "      <td>H</td>\n",
       "      <td>H</td>\n",
       "      <td>R</td>\n",
       "      <td>R</td>\n",
       "    </tr>\n",
       "    <tr>\n",
       "      <th>NA21144</th>\n",
       "      <td>H</td>\n",
       "      <td>A</td>\n",
       "      <td>R</td>\n",
       "      <td>R</td>\n",
       "      <td>R</td>\n",
       "    </tr>\n",
       "  </tbody>\n",
       "</table>\n",
       "<p>2504 rows × 5 columns</p>\n",
       "</div>"
      ],
      "text/plain": [
       "SNP     O1V1 O1V2 O1V3 O1V4 O1V5\n",
       "HG00096    A    R    H    A    H\n",
       "HG00097    H    H    H    R    H\n",
       "HG00099    H    H    R    H    R\n",
       "HG00100    A    A    A    H    H\n",
       "HG00101    H    A    R    H    R\n",
       "...      ...  ...  ...  ...  ...\n",
       "NA21137    R    H    H    H    R\n",
       "NA21141    R    H    R    A    R\n",
       "NA21142    H    A    H    R    R\n",
       "NA21143    A    H    H    R    R\n",
       "NA21144    H    A    R    R    R\n",
       "\n",
       "[2504 rows x 5 columns]"
      ]
     },
     "execution_count": 25,
     "metadata": {},
     "output_type": "execute_result"
    }
   ],
   "source": [
    "varGT"
   ]
  },
  {
   "cell_type": "code",
   "execution_count": 26,
   "metadata": {},
   "outputs": [],
   "source": [
    "varGT.to_csv(outputPrefix+'.varGT.csv')"
   ]
  },
  {
   "cell_type": "code",
   "execution_count": 27,
   "metadata": {},
   "outputs": [
    {
     "data": {
      "text/html": [
       "<div>\n",
       "<style scoped>\n",
       "    .dataframe tbody tr th:only-of-type {\n",
       "        vertical-align: middle;\n",
       "    }\n",
       "\n",
       "    .dataframe tbody tr th {\n",
       "        vertical-align: top;\n",
       "    }\n",
       "\n",
       "    .dataframe thead th {\n",
       "        text-align: right;\n",
       "    }\n",
       "</style>\n",
       "<table border=\"1\" class=\"dataframe\">\n",
       "  <thead>\n",
       "    <tr style=\"text-align: right;\">\n",
       "      <th>SNP</th>\n",
       "      <th>O1V1</th>\n",
       "      <th>O1V2</th>\n",
       "      <th>O1V3</th>\n",
       "      <th>O1V4</th>\n",
       "      <th>O1V5</th>\n",
       "    </tr>\n",
       "  </thead>\n",
       "  <tbody>\n",
       "    <tr>\n",
       "      <th>HG00096</th>\n",
       "      <td>A</td>\n",
       "      <td>R</td>\n",
       "      <td>H</td>\n",
       "      <td>A</td>\n",
       "      <td>H</td>\n",
       "    </tr>\n",
       "    <tr>\n",
       "      <th>HG00097</th>\n",
       "      <td>H</td>\n",
       "      <td>H</td>\n",
       "      <td>H</td>\n",
       "      <td>R</td>\n",
       "      <td>H</td>\n",
       "    </tr>\n",
       "    <tr>\n",
       "      <th>HG00099</th>\n",
       "      <td>H</td>\n",
       "      <td>H</td>\n",
       "      <td>R</td>\n",
       "      <td>H</td>\n",
       "      <td>R</td>\n",
       "    </tr>\n",
       "    <tr>\n",
       "      <th>HG00100</th>\n",
       "      <td>A</td>\n",
       "      <td>A</td>\n",
       "      <td>A</td>\n",
       "      <td>H</td>\n",
       "      <td>H</td>\n",
       "    </tr>\n",
       "    <tr>\n",
       "      <th>HG00101</th>\n",
       "      <td>H</td>\n",
       "      <td>A</td>\n",
       "      <td>R</td>\n",
       "      <td>H</td>\n",
       "      <td>R</td>\n",
       "    </tr>\n",
       "  </tbody>\n",
       "</table>\n",
       "</div>"
      ],
      "text/plain": [
       "SNP     O1V1 O1V2 O1V3 O1V4 O1V5\n",
       "HG00096    A    R    H    A    H\n",
       "HG00097    H    H    H    R    H\n",
       "HG00099    H    H    R    H    R\n",
       "HG00100    A    A    A    H    H\n",
       "HG00101    H    A    R    H    R"
      ]
     },
     "execution_count": 27,
     "metadata": {},
     "output_type": "execute_result"
    }
   ],
   "source": [
    "varGT.iloc[:5,-5:]"
   ]
  },
  {
   "cell_type": "code",
   "execution_count": 28,
   "metadata": {},
   "outputs": [],
   "source": [
    "PEPS2_Input = varGT.T.values.tolist()"
   ]
  },
  {
   "cell_type": "markdown",
   "metadata": {},
   "source": [
    "# PEPS2 Simulation"
   ]
  },
  {
   "cell_type": "code",
   "execution_count": 29,
   "metadata": {},
   "outputs": [],
   "source": [
    "def assign(genotypes, case_freq):\n",
    "    \"\"\"Create a list representing Cases (1) and Controls (0)\n",
    "​\n",
    "    Assigns cases and controls to the samples (in order) such that all\n",
    "    variables have a similar impact on the phenotype, and the case frequency is\n",
    "    case_freq.\n",
    "​\n",
    "    :param genotypes: A list of lists, where the primary index is variable, and\n",
    "        the secondary index is sample. Elements represent the value taken by\n",
    "        that variable in that sample. the most common value doesn't contribute\n",
    "        to the phenotype.\n",
    "    :param case_freq: The desired frequency of the case in the population.\n",
    "    :return: a list of the phenotypes of the samples\n",
    "    \"\"\"\n",
    "    num_samples = len(genotypes[0])\n",
    "    global_base_case = num_samples * (\n",
    "        1 - (1-case_freq) ** (1 / len(genotypes))\n",
    "    )\n",
    "    variable_likelihoods = []\n",
    "    for variable_values in genotypes:\n",
    "        value_counts = Counter(variable_values)\n",
    "        del value_counts[value_counts.most_common(1)[0][0]]  # remove most common genotype\n",
    "        num_values = len(value_counts)\n",
    "        variable_likelihoods.append({\n",
    "            k: 1 - min(global_base_case / (num_values * v), 1)\n",
    "            for k, v in value_counts.items()\n",
    "        })\n",
    "    sample_likelihoods = []\n",
    "    for s_i in range(num_samples):\n",
    "        control_prob = 1\n",
    "        for v_i, variable in enumerate(genotypes):\n",
    "            control_prob *= variable_likelihoods[v_i].get(variable[s_i], 1)\n",
    "        sample_likelihoods.append((control_prob, s_i))\n",
    "    sample_phenotypes = [0] * num_samples\n",
    "    sample_likelihoods.sort()\n",
    "    for _, s_i in sample_likelihoods[:int(case_freq * num_samples)]:\n",
    "        sample_phenotypes[s_i] = 1\n",
    "    return sample_phenotypes"
   ]
  },
  {
   "cell_type": "code",
   "execution_count": 30,
   "metadata": {},
   "outputs": [],
   "source": [
    "PEPS2_Output = assign(PEPS2_Input,0.5)"
   ]
  },
  {
   "cell_type": "code",
   "execution_count": 31,
   "metadata": {},
   "outputs": [],
   "source": [
    "varGT['lbl'] = PEPS2_Output"
   ]
  },
  {
   "cell_type": "markdown",
   "metadata": {},
   "source": [
    "# Compute and plot chi2-pvalue (log10) of the variables for the random phenotype"
   ]
  },
  {
   "cell_type": "code",
   "execution_count": 32,
   "metadata": {},
   "outputs": [
    {
     "data": {
      "text/html": [
       "<div>\n",
       "<style scoped>\n",
       "    .dataframe tbody tr th:only-of-type {\n",
       "        vertical-align: middle;\n",
       "    }\n",
       "\n",
       "    .dataframe tbody tr th {\n",
       "        vertical-align: top;\n",
       "    }\n",
       "\n",
       "    .dataframe thead th {\n",
       "        text-align: right;\n",
       "    }\n",
       "</style>\n",
       "<table border=\"1\" class=\"dataframe\">\n",
       "  <thead>\n",
       "    <tr style=\"text-align: right;\">\n",
       "      <th></th>\n",
       "      <th>number of vars exceed the p-value</th>\n",
       "    </tr>\n",
       "    <tr>\n",
       "      <th>p-value</th>\n",
       "      <th></th>\n",
       "    </tr>\n",
       "  </thead>\n",
       "  <tbody>\n",
       "    <tr>\n",
       "      <th>1.000000e+00</th>\n",
       "      <td>5</td>\n",
       "    </tr>\n",
       "    <tr>\n",
       "      <th>5.000000e-01</th>\n",
       "      <td>5</td>\n",
       "    </tr>\n",
       "    <tr>\n",
       "      <th>1.000000e-01</th>\n",
       "      <td>5</td>\n",
       "    </tr>\n",
       "    <tr>\n",
       "      <th>1.000000e-02</th>\n",
       "      <td>5</td>\n",
       "    </tr>\n",
       "    <tr>\n",
       "      <th>1.000000e-03</th>\n",
       "      <td>5</td>\n",
       "    </tr>\n",
       "    <tr>\n",
       "      <th>1.000000e-08</th>\n",
       "      <td>5</td>\n",
       "    </tr>\n",
       "    <tr>\n",
       "      <th>1.000000e-20</th>\n",
       "      <td>5</td>\n",
       "    </tr>\n",
       "  </tbody>\n",
       "</table>\n",
       "</div>"
      ],
      "text/plain": [
       "              number of vars exceed the p-value\n",
       "p-value                                        \n",
       "1.000000e+00                                  5\n",
       "5.000000e-01                                  5\n",
       "1.000000e-01                                  5\n",
       "1.000000e-02                                  5\n",
       "1.000000e-03                                  5\n",
       "1.000000e-08                                  5\n",
       "1.000000e-20                                  5"
      ]
     },
     "execution_count": 32,
     "metadata": {},
     "output_type": "execute_result"
    },
    {
     "data": {
      "image/png": "[encoded data removed]",
      "text/plain": [
       "<Figure size 432x288 with 1 Axes>"
      ]
     },
     "metadata": {
      "needs_background": "light"
     },
     "output_type": "display_data"
    }
   ],
   "source": [
    "features = varGT.columns[:-1]\n",
    "corrDict = dict()\n",
    "for v in features:\n",
    "    corrDict[v] = stats.chi2_contingency(pd.crosstab(varGT['lbl'],varGT[v]).values)[1]\n",
    "a = np.asarray(list(corrDict.values()))\n",
    "b = - np.log10(a)\n",
    "plt.plot(np.sort(b))\n",
    "nsat = list()\n",
    "for t in TA:\n",
    "    nsat.append([t, np.where(a<t)[0].shape[0]])\n",
    "x = pd.DataFrame(nsat)\n",
    "x.columns =['p-value', 'number of vars exceed the p-value']\n",
    "x.set_index('p-value')"
   ]
  },
  {
   "cell_type": "code",
   "execution_count": 33,
   "metadata": {
    "scrolled": true
   },
   "outputs": [
    {
     "data": {
      "text/plain": [
       "{'O1V1': 1.1082881441169865e-42,\n",
       " 'O1V2': 1.6880038333640794e-100,\n",
       " 'O1V3': 1.206957269390894e-71,\n",
       " 'O1V4': 1.453379808709438e-70,\n",
       " 'O1V5': 4.3939651997498654e-52}"
      ]
     },
     "execution_count": 33,
     "metadata": {},
     "output_type": "execute_result"
    }
   ],
   "source": [
    "corrDict"
   ]
  },
  {
   "cell_type": "markdown",
   "metadata": {},
   "source": [
    "# Write Phenotype into a file outputPrefix.pheno.csv"
   ]
  },
  {
   "cell_type": "code",
   "execution_count": 34,
   "metadata": {},
   "outputs": [],
   "source": [
    "phen = varGT[['lbl']].copy()\n",
    "phen.index.name ='sample'\n",
    "phen.to_csv(outputPrefix+'.pheno.csv')"
   ]
  },
  {
   "cell_type": "code",
   "execution_count": 35,
   "metadata": {},
   "outputs": [
    {
     "data": {
      "text/html": [
       "<div>\n",
       "<style scoped>\n",
       "    .dataframe tbody tr th:only-of-type {\n",
       "        vertical-align: middle;\n",
       "    }\n",
       "\n",
       "    .dataframe tbody tr th {\n",
       "        vertical-align: top;\n",
       "    }\n",
       "\n",
       "    .dataframe thead th {\n",
       "        text-align: right;\n",
       "    }\n",
       "</style>\n",
       "<table border=\"1\" class=\"dataframe\">\n",
       "  <thead>\n",
       "    <tr style=\"text-align: right;\">\n",
       "      <th>SNP</th>\n",
       "      <th>lbl</th>\n",
       "    </tr>\n",
       "    <tr>\n",
       "      <th>sample</th>\n",
       "      <th></th>\n",
       "    </tr>\n",
       "  </thead>\n",
       "  <tbody>\n",
       "    <tr>\n",
       "      <th>HG00096</th>\n",
       "      <td>1</td>\n",
       "    </tr>\n",
       "    <tr>\n",
       "      <th>HG00097</th>\n",
       "      <td>0</td>\n",
       "    </tr>\n",
       "    <tr>\n",
       "      <th>HG00099</th>\n",
       "      <td>0</td>\n",
       "    </tr>\n",
       "    <tr>\n",
       "      <th>HG00100</th>\n",
       "      <td>1</td>\n",
       "    </tr>\n",
       "    <tr>\n",
       "      <th>HG00101</th>\n",
       "      <td>0</td>\n",
       "    </tr>\n",
       "  </tbody>\n",
       "</table>\n",
       "</div>"
      ],
      "text/plain": [
       "SNP      lbl\n",
       "sample      \n",
       "HG00096    1\n",
       "HG00097    0\n",
       "HG00099    0\n",
       "HG00100    1\n",
       "HG00101    0"
      ]
     },
     "execution_count": 35,
     "metadata": {},
     "output_type": "execute_result"
    }
   ],
   "source": [
    "phen.head()"
   ]
  },
  {
   "cell_type": "code",
   "execution_count": 36,
   "metadata": {},
   "outputs": [],
   "source": [
    "varData.to_csv(outputPrefix+'.varDataTruth.csv')"
   ]
  },
  {
   "cell_type": "code",
   "execution_count": 37,
   "metadata": {},
   "outputs": [
    {
     "data": {
      "text/html": [
       "<div>\n",
       "<style scoped>\n",
       "    .dataframe tbody tr th:only-of-type {\n",
       "        vertical-align: middle;\n",
       "    }\n",
       "\n",
       "    .dataframe tbody tr th {\n",
       "        vertical-align: top;\n",
       "    }\n",
       "\n",
       "    .dataframe thead th {\n",
       "        text-align: right;\n",
       "    }\n",
       "</style>\n",
       "<table border=\"1\" class=\"dataframe\">\n",
       "  <thead>\n",
       "    <tr style=\"text-align: right;\">\n",
       "      <th></th>\n",
       "      <th>O1V1</th>\n",
       "      <th>O1V2</th>\n",
       "      <th>O1V3</th>\n",
       "      <th>O1V4</th>\n",
       "      <th>O1V5</th>\n",
       "    </tr>\n",
       "  </thead>\n",
       "  <tbody>\n",
       "    <tr>\n",
       "      <th>order</th>\n",
       "      <td>1</td>\n",
       "      <td>1</td>\n",
       "      <td>1</td>\n",
       "      <td>1</td>\n",
       "      <td>1</td>\n",
       "    </tr>\n",
       "    <tr>\n",
       "      <th>snp_1</th>\n",
       "      <td>17:74375959:T:A</td>\n",
       "      <td>6:23443962:G:A</td>\n",
       "      <td>8:98338993:G:A</td>\n",
       "      <td>3:117237749:C:T</td>\n",
       "      <td>16:55285845:A:C</td>\n",
       "    </tr>\n",
       "    <tr>\n",
       "      <th>snp_2</th>\n",
       "      <td>---</td>\n",
       "      <td>---</td>\n",
       "      <td>---</td>\n",
       "      <td>---</td>\n",
       "      <td>---</td>\n",
       "    </tr>\n",
       "    <tr>\n",
       "      <th>snp_3</th>\n",
       "      <td>---</td>\n",
       "      <td>---</td>\n",
       "      <td>---</td>\n",
       "      <td>---</td>\n",
       "      <td>---</td>\n",
       "    </tr>\n",
       "    <tr>\n",
       "      <th>snp_4</th>\n",
       "      <td>---</td>\n",
       "      <td>---</td>\n",
       "      <td>---</td>\n",
       "      <td>---</td>\n",
       "      <td>---</td>\n",
       "    </tr>\n",
       "    <tr>\n",
       "      <th>snp_5</th>\n",
       "      <td>---</td>\n",
       "      <td>---</td>\n",
       "      <td>---</td>\n",
       "      <td>---</td>\n",
       "      <td>---</td>\n",
       "    </tr>\n",
       "  </tbody>\n",
       "</table>\n",
       "</div>"
      ],
      "text/plain": [
       "                  O1V1            O1V2            O1V3             O1V4  \\\n",
       "order                1               1               1                1   \n",
       "snp_1  17:74375959:T:A  6:23443962:G:A  8:98338993:G:A  3:117237749:C:T   \n",
       "snp_2              ---             ---             ---              ---   \n",
       "snp_3              ---             ---             ---              ---   \n",
       "snp_4              ---             ---             ---              ---   \n",
       "snp_5              ---             ---             ---              ---   \n",
       "\n",
       "                  O1V5  \n",
       "order                1  \n",
       "snp_1  16:55285845:A:C  \n",
       "snp_2              ---  \n",
       "snp_3              ---  \n",
       "snp_4              ---  \n",
       "snp_5              ---  "
      ]
     },
     "execution_count": 37,
     "metadata": {},
     "output_type": "execute_result"
    }
   ],
   "source": [
    "varData.iloc[:6,-5:]"
   ]
  },
  {
   "cell_type": "markdown",
   "metadata": {},
   "source": [
    "# Filter SNPs included in All and Truth Variables\n",
    "## write the Truth SNP names in  \"outputPrefix.TruthSNP.csv\""
   ]
  },
  {
   "cell_type": "code",
   "execution_count": 38,
   "metadata": {},
   "outputs": [],
   "source": [
    "snps = np.unique(varData.replace(np.nan, '', regex=True).drop('order').values.ravel())[1:]\n",
    "snpDataVar = snpData.loc[:, snpData.columns.isin(snps)].copy()\n",
    "\n",
    "pd.DataFrame(snps).rename(columns={0:'v'}).to_csv(outputPrefix+'.TruthSNP.csv',index=False)"
   ]
  },
  {
   "cell_type": "code",
   "execution_count": 39,
   "metadata": {},
   "outputs": [
    {
     "data": {
      "text/html": [
       "<div>\n",
       "<style scoped>\n",
       "    .dataframe tbody tr th:only-of-type {\n",
       "        vertical-align: middle;\n",
       "    }\n",
       "\n",
       "    .dataframe tbody tr th {\n",
       "        vertical-align: top;\n",
       "    }\n",
       "\n",
       "    .dataframe thead th {\n",
       "        text-align: right;\n",
       "    }\n",
       "</style>\n",
       "<table border=\"1\" class=\"dataframe\">\n",
       "  <thead>\n",
       "    <tr style=\"text-align: right;\">\n",
       "      <th>SNP</th>\n",
       "      <th>17:74375959:T:A</th>\n",
       "      <th>6:23443962:G:A</th>\n",
       "      <th>8:98338993:G:A</th>\n",
       "      <th>3:117237749:C:T</th>\n",
       "      <th>16:55285845:A:C</th>\n",
       "      <th>7:109181005:C:T</th>\n",
       "      <th>2:15947571:C:G</th>\n",
       "      <th>20:12223868:G:A</th>\n",
       "      <th>10:122185868:A:G</th>\n",
       "      <th>3:63399697:T:G</th>\n",
       "      <th>...</th>\n",
       "      <th>21:21763126:T:C</th>\n",
       "      <th>5:132616959:G:C</th>\n",
       "      <th>5:82162360:A:G</th>\n",
       "      <th>12:118502467:A:G</th>\n",
       "      <th>11:99853866:C:T</th>\n",
       "      <th>15:96556533:T:C</th>\n",
       "      <th>16:83977560:A:G</th>\n",
       "      <th>3:11686475:T:A</th>\n",
       "      <th>8:64700705:C:G</th>\n",
       "      <th>2:237653553:C:T</th>\n",
       "    </tr>\n",
       "  </thead>\n",
       "  <tbody>\n",
       "    <tr>\n",
       "      <th>HG00096</th>\n",
       "      <td>2</td>\n",
       "      <td>0</td>\n",
       "      <td>1</td>\n",
       "      <td>2</td>\n",
       "      <td>1</td>\n",
       "      <td>0</td>\n",
       "      <td>2</td>\n",
       "      <td>2</td>\n",
       "      <td>1</td>\n",
       "      <td>0</td>\n",
       "      <td>...</td>\n",
       "      <td>0</td>\n",
       "      <td>1</td>\n",
       "      <td>0</td>\n",
       "      <td>0</td>\n",
       "      <td>1</td>\n",
       "      <td>1</td>\n",
       "      <td>1</td>\n",
       "      <td>1</td>\n",
       "      <td>0</td>\n",
       "      <td>0</td>\n",
       "    </tr>\n",
       "    <tr>\n",
       "      <th>HG00097</th>\n",
       "      <td>1</td>\n",
       "      <td>1</td>\n",
       "      <td>1</td>\n",
       "      <td>0</td>\n",
       "      <td>1</td>\n",
       "      <td>0</td>\n",
       "      <td>2</td>\n",
       "      <td>1</td>\n",
       "      <td>2</td>\n",
       "      <td>0</td>\n",
       "      <td>...</td>\n",
       "      <td>0</td>\n",
       "      <td>1</td>\n",
       "      <td>2</td>\n",
       "      <td>0</td>\n",
       "      <td>0</td>\n",
       "      <td>1</td>\n",
       "      <td>2</td>\n",
       "      <td>1</td>\n",
       "      <td>0</td>\n",
       "      <td>0</td>\n",
       "    </tr>\n",
       "    <tr>\n",
       "      <th>HG00099</th>\n",
       "      <td>1</td>\n",
       "      <td>1</td>\n",
       "      <td>0</td>\n",
       "      <td>1</td>\n",
       "      <td>0</td>\n",
       "      <td>1</td>\n",
       "      <td>1</td>\n",
       "      <td>1</td>\n",
       "      <td>1</td>\n",
       "      <td>1</td>\n",
       "      <td>...</td>\n",
       "      <td>0</td>\n",
       "      <td>1</td>\n",
       "      <td>0</td>\n",
       "      <td>0</td>\n",
       "      <td>0</td>\n",
       "      <td>2</td>\n",
       "      <td>1</td>\n",
       "      <td>1</td>\n",
       "      <td>1</td>\n",
       "      <td>0</td>\n",
       "    </tr>\n",
       "    <tr>\n",
       "      <th>HG00100</th>\n",
       "      <td>2</td>\n",
       "      <td>2</td>\n",
       "      <td>2</td>\n",
       "      <td>1</td>\n",
       "      <td>1</td>\n",
       "      <td>0</td>\n",
       "      <td>0</td>\n",
       "      <td>2</td>\n",
       "      <td>1</td>\n",
       "      <td>1</td>\n",
       "      <td>...</td>\n",
       "      <td>0</td>\n",
       "      <td>1</td>\n",
       "      <td>0</td>\n",
       "      <td>1</td>\n",
       "      <td>0</td>\n",
       "      <td>1</td>\n",
       "      <td>0</td>\n",
       "      <td>1</td>\n",
       "      <td>0</td>\n",
       "      <td>0</td>\n",
       "    </tr>\n",
       "    <tr>\n",
       "      <th>HG00101</th>\n",
       "      <td>1</td>\n",
       "      <td>2</td>\n",
       "      <td>0</td>\n",
       "      <td>1</td>\n",
       "      <td>0</td>\n",
       "      <td>0</td>\n",
       "      <td>1</td>\n",
       "      <td>1</td>\n",
       "      <td>0</td>\n",
       "      <td>0</td>\n",
       "      <td>...</td>\n",
       "      <td>0</td>\n",
       "      <td>1</td>\n",
       "      <td>0</td>\n",
       "      <td>0</td>\n",
       "      <td>1</td>\n",
       "      <td>2</td>\n",
       "      <td>1</td>\n",
       "      <td>1</td>\n",
       "      <td>1</td>\n",
       "      <td>0</td>\n",
       "    </tr>\n",
       "    <tr>\n",
       "      <th>...</th>\n",
       "      <td>...</td>\n",
       "      <td>...</td>\n",
       "      <td>...</td>\n",
       "      <td>...</td>\n",
       "      <td>...</td>\n",
       "      <td>...</td>\n",
       "      <td>...</td>\n",
       "      <td>...</td>\n",
       "      <td>...</td>\n",
       "      <td>...</td>\n",
       "      <td>...</td>\n",
       "      <td>...</td>\n",
       "      <td>...</td>\n",
       "      <td>...</td>\n",
       "      <td>...</td>\n",
       "      <td>...</td>\n",
       "      <td>...</td>\n",
       "      <td>...</td>\n",
       "      <td>...</td>\n",
       "      <td>...</td>\n",
       "      <td>...</td>\n",
       "    </tr>\n",
       "    <tr>\n",
       "      <th>NA21137</th>\n",
       "      <td>0</td>\n",
       "      <td>1</td>\n",
       "      <td>1</td>\n",
       "      <td>1</td>\n",
       "      <td>0</td>\n",
       "      <td>0</td>\n",
       "      <td>0</td>\n",
       "      <td>1</td>\n",
       "      <td>1</td>\n",
       "      <td>1</td>\n",
       "      <td>...</td>\n",
       "      <td>1</td>\n",
       "      <td>1</td>\n",
       "      <td>0</td>\n",
       "      <td>0</td>\n",
       "      <td>2</td>\n",
       "      <td>2</td>\n",
       "      <td>1</td>\n",
       "      <td>1</td>\n",
       "      <td>0</td>\n",
       "      <td>0</td>\n",
       "    </tr>\n",
       "    <tr>\n",
       "      <th>NA21141</th>\n",
       "      <td>0</td>\n",
       "      <td>1</td>\n",
       "      <td>0</td>\n",
       "      <td>2</td>\n",
       "      <td>0</td>\n",
       "      <td>1</td>\n",
       "      <td>2</td>\n",
       "      <td>0</td>\n",
       "      <td>2</td>\n",
       "      <td>0</td>\n",
       "      <td>...</td>\n",
       "      <td>0</td>\n",
       "      <td>2</td>\n",
       "      <td>0</td>\n",
       "      <td>1</td>\n",
       "      <td>0</td>\n",
       "      <td>1</td>\n",
       "      <td>2</td>\n",
       "      <td>2</td>\n",
       "      <td>0</td>\n",
       "      <td>1</td>\n",
       "    </tr>\n",
       "    <tr>\n",
       "      <th>NA21142</th>\n",
       "      <td>1</td>\n",
       "      <td>2</td>\n",
       "      <td>1</td>\n",
       "      <td>0</td>\n",
       "      <td>0</td>\n",
       "      <td>1</td>\n",
       "      <td>1</td>\n",
       "      <td>1</td>\n",
       "      <td>0</td>\n",
       "      <td>1</td>\n",
       "      <td>...</td>\n",
       "      <td>1</td>\n",
       "      <td>2</td>\n",
       "      <td>1</td>\n",
       "      <td>1</td>\n",
       "      <td>0</td>\n",
       "      <td>0</td>\n",
       "      <td>0</td>\n",
       "      <td>2</td>\n",
       "      <td>0</td>\n",
       "      <td>0</td>\n",
       "    </tr>\n",
       "    <tr>\n",
       "      <th>NA21143</th>\n",
       "      <td>2</td>\n",
       "      <td>1</td>\n",
       "      <td>1</td>\n",
       "      <td>0</td>\n",
       "      <td>0</td>\n",
       "      <td>1</td>\n",
       "      <td>1</td>\n",
       "      <td>1</td>\n",
       "      <td>1</td>\n",
       "      <td>1</td>\n",
       "      <td>...</td>\n",
       "      <td>0</td>\n",
       "      <td>1</td>\n",
       "      <td>0</td>\n",
       "      <td>0</td>\n",
       "      <td>1</td>\n",
       "      <td>1</td>\n",
       "      <td>2</td>\n",
       "      <td>1</td>\n",
       "      <td>0</td>\n",
       "      <td>0</td>\n",
       "    </tr>\n",
       "    <tr>\n",
       "      <th>NA21144</th>\n",
       "      <td>1</td>\n",
       "      <td>2</td>\n",
       "      <td>0</td>\n",
       "      <td>0</td>\n",
       "      <td>0</td>\n",
       "      <td>0</td>\n",
       "      <td>2</td>\n",
       "      <td>1</td>\n",
       "      <td>0</td>\n",
       "      <td>0</td>\n",
       "      <td>...</td>\n",
       "      <td>0</td>\n",
       "      <td>1</td>\n",
       "      <td>0</td>\n",
       "      <td>0</td>\n",
       "      <td>0</td>\n",
       "      <td>2</td>\n",
       "      <td>2</td>\n",
       "      <td>0</td>\n",
       "      <td>1</td>\n",
       "      <td>0</td>\n",
       "    </tr>\n",
       "  </tbody>\n",
       "</table>\n",
       "<p>2504 rows × 17373 columns</p>\n",
       "</div>"
      ],
      "text/plain": [
       "SNP      17:74375959:T:A  6:23443962:G:A  8:98338993:G:A  3:117237749:C:T  \\\n",
       "HG00096                2               0               1                2   \n",
       "HG00097                1               1               1                0   \n",
       "HG00099                1               1               0                1   \n",
       "HG00100                2               2               2                1   \n",
       "HG00101                1               2               0                1   \n",
       "...                  ...             ...             ...              ...   \n",
       "NA21137                0               1               1                1   \n",
       "NA21141                0               1               0                2   \n",
       "NA21142                1               2               1                0   \n",
       "NA21143                2               1               1                0   \n",
       "NA21144                1               2               0                0   \n",
       "\n",
       "SNP      16:55285845:A:C  7:109181005:C:T  2:15947571:C:G  20:12223868:G:A  \\\n",
       "HG00096                1                0               2                2   \n",
       "HG00097                1                0               2                1   \n",
       "HG00099                0                1               1                1   \n",
       "HG00100                1                0               0                2   \n",
       "HG00101                0                0               1                1   \n",
       "...                  ...              ...             ...              ...   \n",
       "NA21137                0                0               0                1   \n",
       "NA21141                0                1               2                0   \n",
       "NA21142                0                1               1                1   \n",
       "NA21143                0                1               1                1   \n",
       "NA21144                0                0               2                1   \n",
       "\n",
       "SNP      10:122185868:A:G  3:63399697:T:G  ...  21:21763126:T:C  \\\n",
       "HG00096                 1               0  ...                0   \n",
       "HG00097                 2               0  ...                0   \n",
       "HG00099                 1               1  ...                0   \n",
       "HG00100                 1               1  ...                0   \n",
       "HG00101                 0               0  ...                0   \n",
       "...                   ...             ...  ...              ...   \n",
       "NA21137                 1               1  ...                1   \n",
       "NA21141                 2               0  ...                0   \n",
       "NA21142                 0               1  ...                1   \n",
       "NA21143                 1               1  ...                0   \n",
       "NA21144                 0               0  ...                0   \n",
       "\n",
       "SNP      5:132616959:G:C  5:82162360:A:G  12:118502467:A:G  11:99853866:C:T  \\\n",
       "HG00096                1               0                 0                1   \n",
       "HG00097                1               2                 0                0   \n",
       "HG00099                1               0                 0                0   \n",
       "HG00100                1               0                 1                0   \n",
       "HG00101                1               0                 0                1   \n",
       "...                  ...             ...               ...              ...   \n",
       "NA21137                1               0                 0                2   \n",
       "NA21141                2               0                 1                0   \n",
       "NA21142                2               1                 1                0   \n",
       "NA21143                1               0                 0                1   \n",
       "NA21144                1               0                 0                0   \n",
       "\n",
       "SNP      15:96556533:T:C  16:83977560:A:G  3:11686475:T:A  8:64700705:C:G  \\\n",
       "HG00096                1                1               1               0   \n",
       "HG00097                1                2               1               0   \n",
       "HG00099                2                1               1               1   \n",
       "HG00100                1                0               1               0   \n",
       "HG00101                2                1               1               1   \n",
       "...                  ...              ...             ...             ...   \n",
       "NA21137                2                1               1               0   \n",
       "NA21141                1                2               2               0   \n",
       "NA21142                0                0               2               0   \n",
       "NA21143                1                2               1               0   \n",
       "NA21144                2                2               0               1   \n",
       "\n",
       "SNP      2:237653553:C:T  \n",
       "HG00096                0  \n",
       "HG00097                0  \n",
       "HG00099                0  \n",
       "HG00100                0  \n",
       "HG00101                0  \n",
       "...                  ...  \n",
       "NA21137                0  \n",
       "NA21141                1  \n",
       "NA21142                0  \n",
       "NA21143                0  \n",
       "NA21144                0  \n",
       "\n",
       "[2504 rows x 17373 columns]"
      ]
     },
     "execution_count": 39,
     "metadata": {},
     "output_type": "execute_result"
    }
   ],
   "source": [
    "snpData"
   ]
  },
  {
   "cell_type": "code",
   "execution_count": 40,
   "metadata": {},
   "outputs": [
    {
     "name": "stdout",
     "output_type": "stream",
     "text": [
      "Number of SNPs used to form Variables:  5\n"
     ]
    }
   ],
   "source": [
    "num_truth_snp = snpDataVar.shape[1]\n",
    "print(\"Number of SNPs used to form Variables: \",num_truth_snp)"
   ]
  },
  {
   "cell_type": "code",
   "execution_count": 41,
   "metadata": {},
   "outputs": [
    {
     "data": {
      "text/html": [
       "<div>\n",
       "<style scoped>\n",
       "    .dataframe tbody tr th:only-of-type {\n",
       "        vertical-align: middle;\n",
       "    }\n",
       "\n",
       "    .dataframe tbody tr th {\n",
       "        vertical-align: top;\n",
       "    }\n",
       "\n",
       "    .dataframe thead th {\n",
       "        text-align: right;\n",
       "    }\n",
       "</style>\n",
       "<table border=\"1\" class=\"dataframe\">\n",
       "  <thead>\n",
       "    <tr style=\"text-align: right;\">\n",
       "      <th>SNP</th>\n",
       "      <th>17:74375959:T:A</th>\n",
       "      <th>6:23443962:G:A</th>\n",
       "      <th>8:98338993:G:A</th>\n",
       "      <th>3:117237749:C:T</th>\n",
       "      <th>16:55285845:A:C</th>\n",
       "    </tr>\n",
       "  </thead>\n",
       "  <tbody>\n",
       "    <tr>\n",
       "      <th>HG00096</th>\n",
       "      <td>2</td>\n",
       "      <td>0</td>\n",
       "      <td>1</td>\n",
       "      <td>2</td>\n",
       "      <td>1</td>\n",
       "    </tr>\n",
       "    <tr>\n",
       "      <th>HG00097</th>\n",
       "      <td>1</td>\n",
       "      <td>1</td>\n",
       "      <td>1</td>\n",
       "      <td>0</td>\n",
       "      <td>1</td>\n",
       "    </tr>\n",
       "    <tr>\n",
       "      <th>HG00099</th>\n",
       "      <td>1</td>\n",
       "      <td>1</td>\n",
       "      <td>0</td>\n",
       "      <td>1</td>\n",
       "      <td>0</td>\n",
       "    </tr>\n",
       "    <tr>\n",
       "      <th>HG00100</th>\n",
       "      <td>2</td>\n",
       "      <td>2</td>\n",
       "      <td>2</td>\n",
       "      <td>1</td>\n",
       "      <td>1</td>\n",
       "    </tr>\n",
       "    <tr>\n",
       "      <th>HG00101</th>\n",
       "      <td>1</td>\n",
       "      <td>2</td>\n",
       "      <td>0</td>\n",
       "      <td>1</td>\n",
       "      <td>0</td>\n",
       "    </tr>\n",
       "  </tbody>\n",
       "</table>\n",
       "</div>"
      ],
      "text/plain": [
       "SNP      17:74375959:T:A  6:23443962:G:A  8:98338993:G:A  3:117237749:C:T  \\\n",
       "HG00096                2               0               1                2   \n",
       "HG00097                1               1               1                0   \n",
       "HG00099                1               1               0                1   \n",
       "HG00100                2               2               2                1   \n",
       "HG00101                1               2               0                1   \n",
       "\n",
       "SNP      16:55285845:A:C  \n",
       "HG00096                1  \n",
       "HG00097                1  \n",
       "HG00099                0  \n",
       "HG00100                1  \n",
       "HG00101                0  "
      ]
     },
     "execution_count": 41,
     "metadata": {},
     "output_type": "execute_result"
    }
   ],
   "source": [
    "snpDataVar.iloc[:5,-5:]"
   ]
  },
  {
   "cell_type": "markdown",
   "metadata": {},
   "source": [
    "# Add Phenotype to SNP Data"
   ]
  },
  {
   "cell_type": "code",
   "execution_count": 42,
   "metadata": {},
   "outputs": [],
   "source": [
    "snpDataVar.loc[:, 'lbl'] = varGT['lbl']\n",
    "snpData.loc[:, 'lbl'] = varGT['lbl']"
   ]
  },
  {
   "cell_type": "markdown",
   "metadata": {},
   "source": [
    "# Compute and plot chi2-pvalue (log10) of the variables for the random phenotype"
   ]
  },
  {
   "cell_type": "code",
   "execution_count": 43,
   "metadata": {},
   "outputs": [
    {
     "data": {
      "text/html": [
       "<div>\n",
       "<style scoped>\n",
       "    .dataframe tbody tr th:only-of-type {\n",
       "        vertical-align: middle;\n",
       "    }\n",
       "\n",
       "    .dataframe tbody tr th {\n",
       "        vertical-align: top;\n",
       "    }\n",
       "\n",
       "    .dataframe thead th {\n",
       "        text-align: right;\n",
       "    }\n",
       "</style>\n",
       "<table border=\"1\" class=\"dataframe\">\n",
       "  <thead>\n",
       "    <tr style=\"text-align: right;\">\n",
       "      <th></th>\n",
       "      <th>number of SNPs exceed the p-value</th>\n",
       "    </tr>\n",
       "    <tr>\n",
       "      <th>p-value</th>\n",
       "      <th></th>\n",
       "    </tr>\n",
       "  </thead>\n",
       "  <tbody>\n",
       "    <tr>\n",
       "      <th>1.000000e+00</th>\n",
       "      <td>5</td>\n",
       "    </tr>\n",
       "    <tr>\n",
       "      <th>5.000000e-01</th>\n",
       "      <td>5</td>\n",
       "    </tr>\n",
       "    <tr>\n",
       "      <th>1.000000e-01</th>\n",
       "      <td>5</td>\n",
       "    </tr>\n",
       "    <tr>\n",
       "      <th>1.000000e-02</th>\n",
       "      <td>5</td>\n",
       "    </tr>\n",
       "    <tr>\n",
       "      <th>1.000000e-03</th>\n",
       "      <td>5</td>\n",
       "    </tr>\n",
       "    <tr>\n",
       "      <th>1.000000e-08</th>\n",
       "      <td>5</td>\n",
       "    </tr>\n",
       "    <tr>\n",
       "      <th>1.000000e-20</th>\n",
       "      <td>5</td>\n",
       "    </tr>\n",
       "  </tbody>\n",
       "</table>\n",
       "</div>"
      ],
      "text/plain": [
       "              number of SNPs exceed the p-value\n",
       "p-value                                        \n",
       "1.000000e+00                                  5\n",
       "5.000000e-01                                  5\n",
       "1.000000e-01                                  5\n",
       "1.000000e-02                                  5\n",
       "1.000000e-03                                  5\n",
       "1.000000e-08                                  5\n",
       "1.000000e-20                                  5"
      ]
     },
     "execution_count": 43,
     "metadata": {},
     "output_type": "execute_result"
    },
    {
     "data": {
      "image/png": "[encoded data removed]",
      "text/plain": [
       "<Figure size 432x288 with 1 Axes>"
      ]
     },
     "metadata": {
      "needs_background": "light"
     },
     "output_type": "display_data"
    }
   ],
   "source": [
    "features = snpDataVar.columns[:-1]\n",
    "corrDict = dict()\n",
    "for v in features:\n",
    "    corrDict[v] = stats.chi2_contingency(pd.crosstab(snpDataVar['lbl'],snpDataVar[v]).values)[1]\n",
    "a = np.asarray(list(corrDict.values()))\n",
    "b = - np.log10(a)\n",
    "plt.plot(np.sort(b))\n",
    "nsat = list()\n",
    "for t in TA:\n",
    "    nsat.append([t, np.where(a<t)[0].shape[0]])\n",
    "x = pd.DataFrame(nsat)\n",
    "x.columns =['p-value', 'number of SNPs exceed the p-value']\n",
    "x.set_index('p-value')"
   ]
  },
  {
   "cell_type": "markdown",
   "metadata": {},
   "source": [
    "# This function used to predict lable using RandomForest\n",
    "## 75% training and 25% test"
   ]
  },
  {
   "cell_type": "code",
   "execution_count": 44,
   "metadata": {},
   "outputs": [],
   "source": [
    "def RF_AUC(dfx, nTree):\n",
    "    df = dfx.copy()\n",
    "    features = df.columns[:-1]\n",
    "    \n",
    "    df['is_train'] = np.random.uniform(0, 1, len(df)) <= .75\n",
    "    train, test = df[df['is_train']==True], df[df['is_train']==False]\n",
    "    clf = RandomForestClassifier(n_jobs=2, n_estimators=nTree, random_state=0)\n",
    "    clf.fit(train[features], train['lbl'])\n",
    "    prob = clf.predict_proba(test[features])\n",
    "    y_true = test['lbl']\n",
    "    y_scores = prob[:,1]\n",
    "    return clf, roc_auc_score(y_true, y_scores)\n"
   ]
  },
  {
   "cell_type": "markdown",
   "metadata": {},
   "source": [
    "# Train and test RandomForest for TruthSNP as well as for all SNP in the input file\n",
    "## Print AUC\n",
    "## Plot Importance Score"
   ]
  },
  {
   "cell_type": "code",
   "execution_count": 45,
   "metadata": {},
   "outputs": [],
   "source": [
    "aucvars = []"
   ]
  },
  {
   "cell_type": "code",
   "execution_count": 46,
   "metadata": {},
   "outputs": [
    {
     "name": "stdout",
     "output_type": "stream",
     "text": [
      "AUC All SNPs in Variables :  [1.0]\n"
     ]
    }
   ],
   "source": [
    "clfVar,   AucVar   = RF_AUC(snpDataVar  , nTree=numTree)\n",
    "aucvars.append(round(AucVar, 3))\n",
    "print(\"AUC All SNPs in Variables : \", aucvars)"
   ]
  },
  {
   "cell_type": "code",
   "execution_count": 47,
   "metadata": {},
   "outputs": [
    {
     "name": "stdout",
     "output_type": "stream",
     "text": [
      "AUC All SNPs in Variables :  [1.0, 1.0]\n"
     ]
    }
   ],
   "source": [
    "clfVar,   AucVar   = RF_AUC(snpDataVar  , nTree=numTree)\n",
    "aucvars.append(round(AucVar, 3))\n",
    "print(\"AUC All SNPs in Variables : \", aucvars)"
   ]
  },
  {
   "cell_type": "code",
   "execution_count": 48,
   "metadata": {},
   "outputs": [
    {
     "name": "stdout",
     "output_type": "stream",
     "text": [
      "AUC All SNPs in Variables :  [1.0, 1.0, 1.0]\n",
      "1.0\n"
     ]
    }
   ],
   "source": [
    "clfVar,   AucVar   = RF_AUC(snpDataVar  , nTree=numTree)\n",
    "aucvars.append(round(AucVar, 3))\n",
    "print(\"AUC All SNPs in Variables : \", aucvars)\n",
    "print(round(sum(aucvars)/len(aucvars), 3))"
   ]
  },
  {
   "cell_type": "code",
   "execution_count": 49,
   "metadata": {},
   "outputs": [
    {
     "ename": "KeyboardInterrupt",
     "evalue": "",
     "output_type": "error",
     "traceback": [
      "\u001b[0;31m---------------------------------------------------------------------------\u001b[0m",
      "\u001b[0;31mKeyboardInterrupt\u001b[0m                         Traceback (most recent call last)",
      "\u001b[0;32m<ipython-input-49-03b803a42590>\u001b[0m in \u001b[0;36m<module>\u001b[0;34m\u001b[0m\n\u001b[0;32m----> 1\u001b[0;31m \u001b[0mclf\u001b[0m\u001b[0;34m,\u001b[0m      \u001b[0mAuc\u001b[0m      \u001b[0;34m=\u001b[0m \u001b[0mRF_AUC\u001b[0m\u001b[0;34m(\u001b[0m\u001b[0msnpData\u001b[0m     \u001b[0;34m,\u001b[0m \u001b[0mnTree\u001b[0m\u001b[0;34m=\u001b[0m\u001b[0mnumTree\u001b[0m\u001b[0;34m)\u001b[0m\u001b[0;34m\u001b[0m\u001b[0;34m\u001b[0m\u001b[0m\n\u001b[0m\u001b[1;32m      2\u001b[0m \u001b[0mimportance_indexes\u001b[0m \u001b[0;34m=\u001b[0m  \u001b[0;34m[\u001b[0m\u001b[0;34m(\u001b[0m\u001b[0msnp_import\u001b[0m\u001b[0;34m,\u001b[0m \u001b[0msnp_index\u001b[0m\u001b[0;34m)\u001b[0m \u001b[0;32mfor\u001b[0m \u001b[0msnp_index\u001b[0m\u001b[0;34m,\u001b[0m \u001b[0msnp_import\u001b[0m \u001b[0;32min\u001b[0m \u001b[0menumerate\u001b[0m\u001b[0;34m(\u001b[0m\u001b[0mclf\u001b[0m\u001b[0;34m.\u001b[0m\u001b[0mfeature_importances_\u001b[0m\u001b[0;34m)\u001b[0m\u001b[0;34m]\u001b[0m\u001b[0;34m\u001b[0m\u001b[0;34m\u001b[0m\u001b[0m\n\u001b[1;32m      3\u001b[0m \u001b[0mimportance_indexes\u001b[0m\u001b[0;34m.\u001b[0m\u001b[0msort\u001b[0m\u001b[0;34m(\u001b[0m\u001b[0mreverse\u001b[0m\u001b[0;34m=\u001b[0m\u001b[0;32mTrue\u001b[0m\u001b[0;34m)\u001b[0m\u001b[0;34m\u001b[0m\u001b[0;34m\u001b[0m\u001b[0m\n",
      "\u001b[0;32m<ipython-input-44-46b3fd60e953>\u001b[0m in \u001b[0;36mRF_AUC\u001b[0;34m(dfx, nTree)\u001b[0m\n\u001b[1;32m      6\u001b[0m     \u001b[0mtrain\u001b[0m\u001b[0;34m,\u001b[0m \u001b[0mtest\u001b[0m \u001b[0;34m=\u001b[0m \u001b[0mdf\u001b[0m\u001b[0;34m[\u001b[0m\u001b[0mdf\u001b[0m\u001b[0;34m[\u001b[0m\u001b[0;34m'is_train'\u001b[0m\u001b[0;34m]\u001b[0m\u001b[0;34m==\u001b[0m\u001b[0;32mTrue\u001b[0m\u001b[0;34m]\u001b[0m\u001b[0;34m,\u001b[0m \u001b[0mdf\u001b[0m\u001b[0;34m[\u001b[0m\u001b[0mdf\u001b[0m\u001b[0;34m[\u001b[0m\u001b[0;34m'is_train'\u001b[0m\u001b[0;34m]\u001b[0m\u001b[0;34m==\u001b[0m\u001b[0;32mFalse\u001b[0m\u001b[0;34m]\u001b[0m\u001b[0;34m\u001b[0m\u001b[0;34m\u001b[0m\u001b[0m\n\u001b[1;32m      7\u001b[0m     \u001b[0mclf\u001b[0m \u001b[0;34m=\u001b[0m \u001b[0mRandomForestClassifier\u001b[0m\u001b[0;34m(\u001b[0m\u001b[0mn_jobs\u001b[0m\u001b[0;34m=\u001b[0m\u001b[0;36m2\u001b[0m\u001b[0;34m,\u001b[0m \u001b[0mn_estimators\u001b[0m\u001b[0;34m=\u001b[0m\u001b[0mnTree\u001b[0m\u001b[0;34m,\u001b[0m \u001b[0mrandom_state\u001b[0m\u001b[0;34m=\u001b[0m\u001b[0;36m0\u001b[0m\u001b[0;34m)\u001b[0m\u001b[0;34m\u001b[0m\u001b[0;34m\u001b[0m\u001b[0m\n\u001b[0;32m----> 8\u001b[0;31m     \u001b[0mclf\u001b[0m\u001b[0;34m.\u001b[0m\u001b[0mfit\u001b[0m\u001b[0;34m(\u001b[0m\u001b[0mtrain\u001b[0m\u001b[0;34m[\u001b[0m\u001b[0mfeatures\u001b[0m\u001b[0;34m]\u001b[0m\u001b[0;34m,\u001b[0m \u001b[0mtrain\u001b[0m\u001b[0;34m[\u001b[0m\u001b[0;34m'lbl'\u001b[0m\u001b[0;34m]\u001b[0m\u001b[0;34m)\u001b[0m\u001b[0;34m\u001b[0m\u001b[0;34m\u001b[0m\u001b[0m\n\u001b[0m\u001b[1;32m      9\u001b[0m     \u001b[0mprob\u001b[0m \u001b[0;34m=\u001b[0m \u001b[0mclf\u001b[0m\u001b[0;34m.\u001b[0m\u001b[0mpredict_proba\u001b[0m\u001b[0;34m(\u001b[0m\u001b[0mtest\u001b[0m\u001b[0;34m[\u001b[0m\u001b[0mfeatures\u001b[0m\u001b[0;34m]\u001b[0m\u001b[0;34m)\u001b[0m\u001b[0;34m\u001b[0m\u001b[0;34m\u001b[0m\u001b[0m\n\u001b[1;32m     10\u001b[0m     \u001b[0my_true\u001b[0m \u001b[0;34m=\u001b[0m \u001b[0mtest\u001b[0m\u001b[0;34m[\u001b[0m\u001b[0;34m'lbl'\u001b[0m\u001b[0;34m]\u001b[0m\u001b[0;34m\u001b[0m\u001b[0;34m\u001b[0m\u001b[0m\n",
      "\u001b[0;32m~/.local/lib/python3.6/site-packages/sklearn/ensemble/_forest.py\u001b[0m in \u001b[0;36mfit\u001b[0;34m(self, X, y, sample_weight)\u001b[0m\n\u001b[1;32m    381\u001b[0m                     \u001b[0mverbose\u001b[0m\u001b[0;34m=\u001b[0m\u001b[0mself\u001b[0m\u001b[0;34m.\u001b[0m\u001b[0mverbose\u001b[0m\u001b[0;34m,\u001b[0m \u001b[0mclass_weight\u001b[0m\u001b[0;34m=\u001b[0m\u001b[0mself\u001b[0m\u001b[0;34m.\u001b[0m\u001b[0mclass_weight\u001b[0m\u001b[0;34m,\u001b[0m\u001b[0;34m\u001b[0m\u001b[0;34m\u001b[0m\u001b[0m\n\u001b[1;32m    382\u001b[0m                     n_samples_bootstrap=n_samples_bootstrap)\n\u001b[0;32m--> 383\u001b[0;31m                 for i, t in enumerate(trees))\n\u001b[0m\u001b[1;32m    384\u001b[0m \u001b[0;34m\u001b[0m\u001b[0m\n\u001b[1;32m    385\u001b[0m             \u001b[0;31m# Collect newly grown trees\u001b[0m\u001b[0;34m\u001b[0m\u001b[0;34m\u001b[0m\u001b[0;34m\u001b[0m\u001b[0m\n",
      "\u001b[0;32m~/.local/lib/python3.6/site-packages/joblib/parallel.py\u001b[0m in \u001b[0;36m__call__\u001b[0;34m(self, iterable)\u001b[0m\n\u001b[1;32m   1015\u001b[0m \u001b[0;34m\u001b[0m\u001b[0m\n\u001b[1;32m   1016\u001b[0m             \u001b[0;32mwith\u001b[0m \u001b[0mself\u001b[0m\u001b[0;34m.\u001b[0m\u001b[0m_backend\u001b[0m\u001b[0;34m.\u001b[0m\u001b[0mretrieval_context\u001b[0m\u001b[0;34m(\u001b[0m\u001b[0;34m)\u001b[0m\u001b[0;34m:\u001b[0m\u001b[0;34m\u001b[0m\u001b[0;34m\u001b[0m\u001b[0m\n\u001b[0;32m-> 1017\u001b[0;31m                 \u001b[0mself\u001b[0m\u001b[0;34m.\u001b[0m\u001b[0mretrieve\u001b[0m\u001b[0;34m(\u001b[0m\u001b[0;34m)\u001b[0m\u001b[0;34m\u001b[0m\u001b[0;34m\u001b[0m\u001b[0m\n\u001b[0m\u001b[1;32m   1018\u001b[0m             \u001b[0;31m# Make sure that we get a last message telling us we are done\u001b[0m\u001b[0;34m\u001b[0m\u001b[0;34m\u001b[0m\u001b[0;34m\u001b[0m\u001b[0m\n\u001b[1;32m   1019\u001b[0m             \u001b[0melapsed_time\u001b[0m \u001b[0;34m=\u001b[0m \u001b[0mtime\u001b[0m\u001b[0;34m.\u001b[0m\u001b[0mtime\u001b[0m\u001b[0;34m(\u001b[0m\u001b[0;34m)\u001b[0m \u001b[0;34m-\u001b[0m \u001b[0mself\u001b[0m\u001b[0;34m.\u001b[0m\u001b[0m_start_time\u001b[0m\u001b[0;34m\u001b[0m\u001b[0;34m\u001b[0m\u001b[0m\n",
      "\u001b[0;32m~/.local/lib/python3.6/site-packages/joblib/parallel.py\u001b[0m in \u001b[0;36mretrieve\u001b[0;34m(self)\u001b[0m\n\u001b[1;32m    907\u001b[0m             \u001b[0;32mtry\u001b[0m\u001b[0;34m:\u001b[0m\u001b[0;34m\u001b[0m\u001b[0;34m\u001b[0m\u001b[0m\n\u001b[1;32m    908\u001b[0m                 \u001b[0;32mif\u001b[0m \u001b[0mgetattr\u001b[0m\u001b[0;34m(\u001b[0m\u001b[0mself\u001b[0m\u001b[0;34m.\u001b[0m\u001b[0m_backend\u001b[0m\u001b[0;34m,\u001b[0m \u001b[0;34m'supports_timeout'\u001b[0m\u001b[0;34m,\u001b[0m \u001b[0;32mFalse\u001b[0m\u001b[0;34m)\u001b[0m\u001b[0;34m:\u001b[0m\u001b[0;34m\u001b[0m\u001b[0;34m\u001b[0m\u001b[0m\n\u001b[0;32m--> 909\u001b[0;31m                     \u001b[0mself\u001b[0m\u001b[0;34m.\u001b[0m\u001b[0m_output\u001b[0m\u001b[0;34m.\u001b[0m\u001b[0mextend\u001b[0m\u001b[0;34m(\u001b[0m\u001b[0mjob\u001b[0m\u001b[0;34m.\u001b[0m\u001b[0mget\u001b[0m\u001b[0;34m(\u001b[0m\u001b[0mtimeout\u001b[0m\u001b[0;34m=\u001b[0m\u001b[0mself\u001b[0m\u001b[0;34m.\u001b[0m\u001b[0mtimeout\u001b[0m\u001b[0;34m)\u001b[0m\u001b[0;34m)\u001b[0m\u001b[0;34m\u001b[0m\u001b[0;34m\u001b[0m\u001b[0m\n\u001b[0m\u001b[1;32m    910\u001b[0m                 \u001b[0;32melse\u001b[0m\u001b[0;34m:\u001b[0m\u001b[0;34m\u001b[0m\u001b[0;34m\u001b[0m\u001b[0m\n\u001b[1;32m    911\u001b[0m                     \u001b[0mself\u001b[0m\u001b[0;34m.\u001b[0m\u001b[0m_output\u001b[0m\u001b[0;34m.\u001b[0m\u001b[0mextend\u001b[0m\u001b[0;34m(\u001b[0m\u001b[0mjob\u001b[0m\u001b[0;34m.\u001b[0m\u001b[0mget\u001b[0m\u001b[0;34m(\u001b[0m\u001b[0;34m)\u001b[0m\u001b[0;34m)\u001b[0m\u001b[0;34m\u001b[0m\u001b[0;34m\u001b[0m\u001b[0m\n",
      "\u001b[0;32m/usr/lib/python3.6/multiprocessing/pool.py\u001b[0m in \u001b[0;36mget\u001b[0;34m(self, timeout)\u001b[0m\n\u001b[1;32m    636\u001b[0m \u001b[0;34m\u001b[0m\u001b[0m\n\u001b[1;32m    637\u001b[0m     \u001b[0;32mdef\u001b[0m \u001b[0mget\u001b[0m\u001b[0;34m(\u001b[0m\u001b[0mself\u001b[0m\u001b[0;34m,\u001b[0m \u001b[0mtimeout\u001b[0m\u001b[0;34m=\u001b[0m\u001b[0;32mNone\u001b[0m\u001b[0;34m)\u001b[0m\u001b[0;34m:\u001b[0m\u001b[0;34m\u001b[0m\u001b[0;34m\u001b[0m\u001b[0m\n\u001b[0;32m--> 638\u001b[0;31m         \u001b[0mself\u001b[0m\u001b[0;34m.\u001b[0m\u001b[0mwait\u001b[0m\u001b[0;34m(\u001b[0m\u001b[0mtimeout\u001b[0m\u001b[0;34m)\u001b[0m\u001b[0;34m\u001b[0m\u001b[0;34m\u001b[0m\u001b[0m\n\u001b[0m\u001b[1;32m    639\u001b[0m         \u001b[0;32mif\u001b[0m \u001b[0;32mnot\u001b[0m \u001b[0mself\u001b[0m\u001b[0;34m.\u001b[0m\u001b[0mready\u001b[0m\u001b[0;34m(\u001b[0m\u001b[0;34m)\u001b[0m\u001b[0;34m:\u001b[0m\u001b[0;34m\u001b[0m\u001b[0;34m\u001b[0m\u001b[0m\n\u001b[1;32m    640\u001b[0m             \u001b[0;32mraise\u001b[0m \u001b[0mTimeoutError\u001b[0m\u001b[0;34m\u001b[0m\u001b[0;34m\u001b[0m\u001b[0m\n",
      "\u001b[0;32m/usr/lib/python3.6/multiprocessing/pool.py\u001b[0m in \u001b[0;36mwait\u001b[0;34m(self, timeout)\u001b[0m\n\u001b[1;32m    633\u001b[0m \u001b[0;34m\u001b[0m\u001b[0m\n\u001b[1;32m    634\u001b[0m     \u001b[0;32mdef\u001b[0m \u001b[0mwait\u001b[0m\u001b[0;34m(\u001b[0m\u001b[0mself\u001b[0m\u001b[0;34m,\u001b[0m \u001b[0mtimeout\u001b[0m\u001b[0;34m=\u001b[0m\u001b[0;32mNone\u001b[0m\u001b[0;34m)\u001b[0m\u001b[0;34m:\u001b[0m\u001b[0;34m\u001b[0m\u001b[0;34m\u001b[0m\u001b[0m\n\u001b[0;32m--> 635\u001b[0;31m         \u001b[0mself\u001b[0m\u001b[0;34m.\u001b[0m\u001b[0m_event\u001b[0m\u001b[0;34m.\u001b[0m\u001b[0mwait\u001b[0m\u001b[0;34m(\u001b[0m\u001b[0mtimeout\u001b[0m\u001b[0;34m)\u001b[0m\u001b[0;34m\u001b[0m\u001b[0;34m\u001b[0m\u001b[0m\n\u001b[0m\u001b[1;32m    636\u001b[0m \u001b[0;34m\u001b[0m\u001b[0m\n\u001b[1;32m    637\u001b[0m     \u001b[0;32mdef\u001b[0m \u001b[0mget\u001b[0m\u001b[0;34m(\u001b[0m\u001b[0mself\u001b[0m\u001b[0;34m,\u001b[0m \u001b[0mtimeout\u001b[0m\u001b[0;34m=\u001b[0m\u001b[0;32mNone\u001b[0m\u001b[0;34m)\u001b[0m\u001b[0;34m:\u001b[0m\u001b[0;34m\u001b[0m\u001b[0;34m\u001b[0m\u001b[0m\n",
      "\u001b[0;32m/usr/lib/python3.6/threading.py\u001b[0m in \u001b[0;36mwait\u001b[0;34m(self, timeout)\u001b[0m\n\u001b[1;32m    549\u001b[0m             \u001b[0msignaled\u001b[0m \u001b[0;34m=\u001b[0m \u001b[0mself\u001b[0m\u001b[0;34m.\u001b[0m\u001b[0m_flag\u001b[0m\u001b[0;34m\u001b[0m\u001b[0;34m\u001b[0m\u001b[0m\n\u001b[1;32m    550\u001b[0m             \u001b[0;32mif\u001b[0m \u001b[0;32mnot\u001b[0m \u001b[0msignaled\u001b[0m\u001b[0;34m:\u001b[0m\u001b[0;34m\u001b[0m\u001b[0;34m\u001b[0m\u001b[0m\n\u001b[0;32m--> 551\u001b[0;31m                 \u001b[0msignaled\u001b[0m \u001b[0;34m=\u001b[0m \u001b[0mself\u001b[0m\u001b[0;34m.\u001b[0m\u001b[0m_cond\u001b[0m\u001b[0;34m.\u001b[0m\u001b[0mwait\u001b[0m\u001b[0;34m(\u001b[0m\u001b[0mtimeout\u001b[0m\u001b[0;34m)\u001b[0m\u001b[0;34m\u001b[0m\u001b[0;34m\u001b[0m\u001b[0m\n\u001b[0m\u001b[1;32m    552\u001b[0m             \u001b[0;32mreturn\u001b[0m \u001b[0msignaled\u001b[0m\u001b[0;34m\u001b[0m\u001b[0;34m\u001b[0m\u001b[0m\n\u001b[1;32m    553\u001b[0m \u001b[0;34m\u001b[0m\u001b[0m\n",
      "\u001b[0;32m/usr/lib/python3.6/threading.py\u001b[0m in \u001b[0;36mwait\u001b[0;34m(self, timeout)\u001b[0m\n\u001b[1;32m    293\u001b[0m         \u001b[0;32mtry\u001b[0m\u001b[0;34m:\u001b[0m    \u001b[0;31m# restore state no matter what (e.g., KeyboardInterrupt)\u001b[0m\u001b[0;34m\u001b[0m\u001b[0;34m\u001b[0m\u001b[0m\n\u001b[1;32m    294\u001b[0m             \u001b[0;32mif\u001b[0m \u001b[0mtimeout\u001b[0m \u001b[0;32mis\u001b[0m \u001b[0;32mNone\u001b[0m\u001b[0;34m:\u001b[0m\u001b[0;34m\u001b[0m\u001b[0;34m\u001b[0m\u001b[0m\n\u001b[0;32m--> 295\u001b[0;31m                 \u001b[0mwaiter\u001b[0m\u001b[0;34m.\u001b[0m\u001b[0macquire\u001b[0m\u001b[0;34m(\u001b[0m\u001b[0;34m)\u001b[0m\u001b[0;34m\u001b[0m\u001b[0;34m\u001b[0m\u001b[0m\n\u001b[0m\u001b[1;32m    296\u001b[0m                 \u001b[0mgotit\u001b[0m \u001b[0;34m=\u001b[0m \u001b[0;32mTrue\u001b[0m\u001b[0;34m\u001b[0m\u001b[0;34m\u001b[0m\u001b[0m\n\u001b[1;32m    297\u001b[0m             \u001b[0;32melse\u001b[0m\u001b[0;34m:\u001b[0m\u001b[0;34m\u001b[0m\u001b[0;34m\u001b[0m\u001b[0m\n",
      "\u001b[0;31mKeyboardInterrupt\u001b[0m: "
     ]
    }
   ],
   "source": [
    "clf,      Auc      = RF_AUC(snpData     , nTree=numTree)\n",
    "importance_indexes =  [(snp_import, snp_index) for snp_index, snp_import in enumerate(clf.feature_importances_)]\n",
    "importance_indexes.sort(reverse=True)"
   ]
  },
  {
   "cell_type": "code",
   "execution_count": null,
   "metadata": {},
   "outputs": [],
   "source": [
    "num_top = num_truth_snp * 2\n",
    "top_snp_indexes = [snp[1] for snp in importance_indexes[:num_top]]\n",
    "topSnps = snpData.iloc[:, top_snp_indexes + [-1]]\n",
    "clfTop,      AucTop      = RF_AUC(topSnps, nTree=numTree)\n",
    "print(\"AUC All SNPs in Variables : \", round(AucVar, 3))\n",
    "print(\"AUC All SNPs in input file: \", round(Auc, 3))\n",
    "print(\"Top \" + str(num_top) + \" SNPs: \", round(AucTop, 3))\n",
    "pd.DataFrame(np.sort(clfVar.feature_importances_)).plot(title=\"All SNP in Variables\")\n",
    "pd.DataFrame(np.sort(clf.feature_importances_)).plot(title=\"All SNP in input file\")\n",
    "pd.DataFrame(np.sort(clfTop.feature_importances_)).plot(title=\"Top \" + str(num_top) + \" SNPs in input file\")"
   ]
  },
  {
   "cell_type": "code",
   "execution_count": null,
   "metadata": {},
   "outputs": [],
   "source": [
    "feats = {} # a dict to hold feature_name: feature_importance\n",
    "for feature, importance in zip(snpData.columns, clf.feature_importances_):\n",
    "    feats[feature] = importance #add the name/value pair \n",
    "importances = pd.DataFrame.from_dict(feats, orient='index').rename(columns={0: 'Gini-importance'})"
   ]
  },
  {
   "cell_type": "code",
   "execution_count": null,
   "metadata": {},
   "outputs": [],
   "source": [
    "ix = importances.sort_values('Gini-importance', ascending=False)"
   ]
  },
  {
   "cell_type": "code",
   "execution_count": null,
   "metadata": {},
   "outputs": [],
   "source": [
    "ix['rank'] = range(1,ix.shape[0]+1)"
   ]
  },
  {
   "cell_type": "code",
   "execution_count": null,
   "metadata": {},
   "outputs": [],
   "source": [
    "ix.shape"
   ]
  },
  {
   "cell_type": "code",
   "execution_count": null,
   "metadata": {},
   "outputs": [],
   "source": [
    "Truth = pd.DataFrame(snps).rename(columns={0:'v'}).set_index('v')"
   ]
  },
  {
   "cell_type": "code",
   "execution_count": null,
   "metadata": {},
   "outputs": [],
   "source": [
    "Truth.shape"
   ]
  },
  {
   "cell_type": "code",
   "execution_count": null,
   "metadata": {},
   "outputs": [],
   "source": [
    "jx = ix.join(Truth,how='inner')"
   ]
  },
  {
   "cell_type": "markdown",
   "metadata": {},
   "source": [
    "# Rank and importance of truth snp when processing all SNP in the file"
   ]
  },
  {
   "cell_type": "code",
   "execution_count": null,
   "metadata": {
    "scrolled": true
   },
   "outputs": [],
   "source": [
    "from IPython.core.display import HTML\n",
    "display(HTML(jx.reset_index().to_html()))"
   ]
  },
  {
   "cell_type": "code",
   "execution_count": null,
   "metadata": {},
   "outputs": [],
   "source": [
    "%notebook save"
   ]
  },
  {
   "cell_type": "code",
   "execution_count": null,
   "metadata": {},
   "outputs": [],
   "source": [
    "from IPython.display import display, Javascript\n",
    "display(Javascript('IPython.notebook.save_checkpoint();'))"
   ]
  },
  {
   "cell_type": "code",
   "execution_count": null,
   "metadata": {},
   "outputs": [],
   "source": [
    "%notebook save"
   ]
  },
  {
   "cell_type": "code",
   "execution_count": null,
   "metadata": {},
   "outputs": [],
   "source": [
    "import os\n",
    "os.system(\"jupyter nbconvert PEPS3.ipynb --to html --output \"+outputPrefix+\".html\")"
   ]
  }
 ],
 "metadata": {
  "kernelspec": {
   "display_name": "Python 3",
   "language": "python",
   "name": "python3"
  },
  "language_info": {
   "codemirror_mode": {
    "name": "ipython",
    "version": 3
   },
   "file_extension": ".py",
   "mimetype": "text/x-python",
   "name": "python",
   "nbconvert_exporter": "python",
   "pygments_lexer": "ipython3",
   "version": "3.6.9"
  }
 },
 "nbformat": 4,
 "nbformat_minor": 2
}
